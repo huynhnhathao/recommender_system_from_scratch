{
 "cells": [
  {
   "cell_type": "code",
   "execution_count": 2,
   "id": "0c8a8f54",
   "metadata": {},
   "outputs": [],
   "source": [
    "import numpy as np\n",
    "import pandas as pd\n",
    "\n",
    "from CollaborativeFiltering import UserBasedCF, ItemBasedCF"
   ]
  },
  {
   "cell_type": "code",
   "execution_count": 11,
   "id": "7d7d4d7e",
   "metadata": {},
   "outputs": [],
   "source": [
    "def cosine(a, b):\n",
    "    return np.sum([(ai*bi) for ai, bi in zip(a, b)])/(np.sqrt(np.sum([ai**2 for ai in a]))*np.sqrt(np.sum([bi**2 for bi in b])))"
   ]
  },
  {
   "cell_type": "code",
   "execution_count": 5,
   "id": "fa578a12",
   "metadata": {},
   "outputs": [],
   "source": [
    "    data_dict = {'userID': [1,1,1,1,1, 2,2,2,2,2, 3,3,3,3,3, 4,4,4,4,4], \n",
    "             'movieID': [1,2,3,4,5, 1,2,3,4,5, 1,2,3,4,5, 1,2,3,4,5], \n",
    "             'rating': [np.nan ,4,1,1, np.nan,  1,2, 4,np.nan, 1,  5, 5, 3,4,np.nan, 5,5,1, np.nan, 1]}\n",
    "data = pd.DataFrame.from_dict(data_dict)\n",
    "# recommender = UserBasedCF(data, 2, 'userID', 'movieID', 'rating')\n",
    "# recommender.recommend(1, 1)"
   ]
  },
  {
   "cell_type": "code",
   "execution_count": 6,
   "id": "2fc20e66",
   "metadata": {},
   "outputs": [],
   "source": [
    "rating_matrix = data.pivot(index = 'userID', columns = 'movieID', values = 'rating')"
   ]
  },
  {
   "cell_type": "code",
   "execution_count": 9,
   "id": "3839535c",
   "metadata": {},
   "outputs": [
    {
     "data": {
      "text/html": [
       "<div>\n",
       "<style scoped>\n",
       "    .dataframe tbody tr th:only-of-type {\n",
       "        vertical-align: middle;\n",
       "    }\n",
       "\n",
       "    .dataframe tbody tr th {\n",
       "        vertical-align: top;\n",
       "    }\n",
       "\n",
       "    .dataframe thead th {\n",
       "        text-align: right;\n",
       "    }\n",
       "</style>\n",
       "<table border=\"1\" class=\"dataframe\">\n",
       "  <thead>\n",
       "    <tr style=\"text-align: right;\">\n",
       "      <th>movieID</th>\n",
       "      <th>1</th>\n",
       "      <th>2</th>\n",
       "      <th>3</th>\n",
       "      <th>4</th>\n",
       "      <th>5</th>\n",
       "    </tr>\n",
       "    <tr>\n",
       "      <th>userID</th>\n",
       "      <th></th>\n",
       "      <th></th>\n",
       "      <th></th>\n",
       "      <th></th>\n",
       "      <th></th>\n",
       "    </tr>\n",
       "  </thead>\n",
       "  <tbody>\n",
       "    <tr>\n",
       "      <th>1</th>\n",
       "      <td>NaN</td>\n",
       "      <td>4.0</td>\n",
       "      <td>1.0</td>\n",
       "      <td>1.0</td>\n",
       "      <td>NaN</td>\n",
       "    </tr>\n",
       "    <tr>\n",
       "      <th>2</th>\n",
       "      <td>1.0</td>\n",
       "      <td>2.0</td>\n",
       "      <td>4.0</td>\n",
       "      <td>NaN</td>\n",
       "      <td>1.0</td>\n",
       "    </tr>\n",
       "    <tr>\n",
       "      <th>3</th>\n",
       "      <td>5.0</td>\n",
       "      <td>5.0</td>\n",
       "      <td>3.0</td>\n",
       "      <td>4.0</td>\n",
       "      <td>NaN</td>\n",
       "    </tr>\n",
       "    <tr>\n",
       "      <th>4</th>\n",
       "      <td>5.0</td>\n",
       "      <td>5.0</td>\n",
       "      <td>1.0</td>\n",
       "      <td>NaN</td>\n",
       "      <td>1.0</td>\n",
       "    </tr>\n",
       "  </tbody>\n",
       "</table>\n",
       "</div>"
      ],
      "text/plain": [
       "movieID    1    2    3    4    5\n",
       "userID                          \n",
       "1        NaN  4.0  1.0  1.0  NaN\n",
       "2        1.0  2.0  4.0  NaN  1.0\n",
       "3        5.0  5.0  3.0  4.0  NaN\n",
       "4        5.0  5.0  1.0  NaN  1.0"
      ]
     },
     "execution_count": 9,
     "metadata": {},
     "output_type": "execute_result"
    }
   ],
   "source": [
    "rating_matrix"
   ]
  },
  {
   "cell_type": "code",
   "execution_count": null,
   "id": "0aff9c01",
   "metadata": {},
   "outputs": [],
   "source": [
    "row_mean_centered =[[np.nan, 2,   -1,    -1 ,    np.nan],\n",
    "                [ -1,   1,    2,     np.nan,    -1], \n",
    "                [0.75, 0.75, -1.25,  -0.25,  np.nan],\n",
    "                [2,      2,   -2,   np.nan,   1]   ]\n",
    "\n",
    "column_mean = {1: 3.6666666666666665, 2: 4.0, 3: 2.25, 4: 2.5, 5: 1.0}\n",
    "pearson = {'Pearson': {1: 1.0, 2: 0.7071067811865476, 3: 0.970142500145332, 4: 1, 5: 0}}"
   ]
  },
  {
   "cell_type": "code",
   "execution_count": 56,
   "id": "2321de05",
   "metadata": {},
   "outputs": [],
   "source": [
    "means = [2, 2, 4.25, 3]"
   ]
  },
  {
   "cell_type": "code",
   "execution_count": 16,
   "id": "e98e2abb",
   "metadata": {},
   "outputs": [
    {
     "data": {
      "text/plain": [
       "0.7954317200324987"
      ]
     },
     "execution_count": 16,
     "metadata": {},
     "output_type": "execute_result"
    }
   ],
   "source": [
    "cosine([-1, -1.25], [-1, -0.25],)"
   ]
  },
  {
   "cell_type": "markdown",
   "id": "f78407ed",
   "metadata": {},
   "source": [
    "\n",
    "adjusted cosine:\n",
    "    (4,1) = -1\n",
    "    (4,2) = -0.99\n",
    "    (4,3) = 0.79\n",
    "    (4, 5) = 0\n",
    "    \n",
    " "
   ]
  },
  {
   "cell_type": "code",
   "execution_count": 5,
   "id": "0177ab90",
   "metadata": {},
   "outputs": [
    {
     "data": {
      "text/plain": [
       "0.970142500145332"
      ]
     },
     "execution_count": 5,
     "metadata": {},
     "output_type": "execute_result"
    }
   ],
   "source": [
    "pearson([1, 3], [1, 4], 2.25, 2.5)"
   ]
  },
  {
   "cell_type": "code",
   "execution_count": 1,
   "id": "ba50e004",
   "metadata": {},
   "outputs": [],
   "source": [
    "def pearson(a, b, mean_a, mean_b):\n",
    "    numerator = np.sum([(ai - mean_a)*(bi - mean_b) for ai,bi in zip(a, b)])\n",
    "    denominator = np.sqrt(np.sum([(ai - mean_a)**2 for ai in a]))*np.sqrt(np.sum([(bi - mean_b)**2 for bi in b]) )\n",
    "    return numerator/denominator\n",
    "\n",
    "def predict(ratinga, ratingb, scorea, scoreb,meana, meanb, mean_user):\n",
    "    predicted = mean_user + np.sum([(ratinga - meana)*scorea + (ratingb - meanb)*scoreb])/(scorea + scoreb)\n",
    "    return predicted"
   ]
  },
  {
   "cell_type": "code",
   "execution_count": null,
   "id": "ee9ca812",
   "metadata": {},
   "outputs": [],
   "source": []
  },
  {
   "cell_type": "code",
   "execution_count": 75,
   "id": "f160a8c3",
   "metadata": {},
   "outputs": [
    {
     "data": {
      "text/plain": [
       "-0.4472135954999579"
      ]
     },
     "execution_count": 75,
     "metadata": {},
     "output_type": "execute_result"
    }
   ],
   "source": [
    "pearson([2 ,4], [4,1], 2,2)"
   ]
  },
  {
   "cell_type": "code",
   "execution_count": 77,
   "id": "2124a561",
   "metadata": {},
   "outputs": [],
   "source": [
    "all_scores = {1: {2:-0.44 , 3: 0.82, 4:0.94 },\n",
    "                2: {1: -0.44, 3:-0.88, 4: -0.77}, \n",
    "             3: {1: 0.82, 2: -0.88, 4: 0.968 }}"
   ]
  },
  {
   "cell_type": "markdown",
   "id": "72a4020c",
   "metadata": {},
   "source": [
    "predicted_rating:\n",
    "    user1: \n",
    "        item1:3.41\n",
    "        item5: 0.936\n",
    "        \n",
    "    user2: \n",
    "        item4: "
   ]
  },
  {
   "cell_type": "code",
   "execution_count": 83,
   "id": "e594998e",
   "metadata": {},
   "outputs": [
    {
     "data": {
      "text/plain": [
       "3.4176136363636367"
      ]
     },
     "execution_count": 83,
     "metadata": {},
     "output_type": "execute_result"
    }
   ],
   "source": [
    "predict(5,5,0.82, 0.94, 4.25, 3, 2)"
   ]
  },
  {
   "cell_type": "code",
   "execution_count": null,
   "id": "d41a6fb9",
   "metadata": {},
   "outputs": [],
   "source": []
  }
 ],
 "metadata": {
  "kernelspec": {
   "display_name": "Python 3 (ipykernel)",
   "language": "python",
   "name": "python3"
  },
  "language_info": {
   "codemirror_mode": {
    "name": "ipython",
    "version": 3
   },
   "file_extension": ".py",
   "mimetype": "text/x-python",
   "name": "python",
   "nbconvert_exporter": "python",
   "pygments_lexer": "ipython3",
   "version": "3.9.6"
  }
 },
 "nbformat": 4,
 "nbformat_minor": 5
}
